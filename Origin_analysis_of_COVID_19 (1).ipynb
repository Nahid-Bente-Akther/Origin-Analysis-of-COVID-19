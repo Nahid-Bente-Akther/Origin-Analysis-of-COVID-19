{
  "nbformat": 4,
  "nbformat_minor": 0,
  "metadata": {
    "colab": {
      "name": "Origin analysis of COVID-19.ipynb",
      "provenance": [],
      "collapsed_sections": []
    },
    "kernelspec": {
      "name": "python3",
      "display_name": "Python 3"
    }
  },
  "cells": [
    {
      "cell_type": "code",
      "metadata": {
        "id": "L4jo_dg40SnC",
        "colab_type": "code",
        "colab": {
          "base_uri": "https://localhost:8080/",
          "height": 51
        },
        "outputId": "11fa1804-e0e2-4365-904c-36f9139b2094"
      },
      "source": [
        "!pip install Biopython"
      ],
      "execution_count": 27,
      "outputs": [
        {
          "output_type": "stream",
          "text": [
            "Requirement already satisfied: Biopython in /usr/local/lib/python3.6/dist-packages (1.77)\n",
            "Requirement already satisfied: numpy in /usr/local/lib/python3.6/dist-packages (from Biopython) (1.18.5)\n"
          ],
          "name": "stdout"
        }
      ]
    },
    {
      "cell_type": "code",
      "metadata": {
        "id": "ZZzH4PuUz4Cp",
        "colab_type": "code",
        "colab": {}
      },
      "source": [
        "from Bio import AlignIO\n",
        "from Bio.Align.Applications import ClustalOmegaCommandline\n",
        "from Bio.Phylo.TreeConstruction import DistanceCalculator, DistanceTreeConstructor\n",
        "from Bio.Phylo import draw\n",
        "from Bio import SeqIO\n",
        "from Bio import Phylo, AlignIO\n",
        "import subprocess\n",
        "import matplotlib\n",
        "import matplotlib.pyplot as plt\n",
        "import pandas as pd\n",
        "import numpy as np\n",
        "import os\n",
        "from Bio.Align.Applications import ClustalOmegaCommandline"
      ],
      "execution_count": 44,
      "outputs": []
    },
    {
      "cell_type": "code",
      "metadata": {
        "id": "Sgg1aWfI0pD_",
        "colab_type": "code",
        "colab": {
          "base_uri": "https://localhost:8080/",
          "height": 188
        },
        "outputId": "3ac06778-b032-4e46-a905-6762310e5be9"
      },
      "source": [
        "os.listdir('/content/sample_data/sequences')"
      ],
      "execution_count": 30,
      "outputs": [
        {
          "output_type": "execute_result",
          "data": {
            "text/plain": [
              "['Rhinolophus ferrumequinum.fasta',\n",
              " 'clustal-omega-1.2.3-macosx',\n",
              " 'Branta canadensis.fasta',\n",
              " '.ipynb_checkpoints',\n",
              " 'Camelus.fasta',\n",
              " 'all.fasta',\n",
              " 'Mareca.fasta',\n",
              " 'Gallus gallus.fasta',\n",
              " 'Homo sapiens.fasta',\n",
              " 'Delphinapterus leucas.fasta']"
            ]
          },
          "metadata": {
            "tags": []
          },
          "execution_count": 30
        }
      ]
    },
    {
      "cell_type": "code",
      "metadata": {
        "id": "gxzWovS3_lmY",
        "colab_type": "code",
        "colab": {}
      },
      "source": [
        "Branta_canadensis = SeqIO.read(\"/content/sample_data/sequences/Branta canadensis.fasta\", \"fasta\") #Ghoose\n",
        "Camelus = SeqIO.read(\"/content/sample_data/sequences/Camelus.fasta\", \"fasta\") #Camelus\n",
        "Delphinapterus_leucas = SeqIO.read(\"/content/sample_data/sequences/Delphinapterus leucas.fasta\", \"fasta\") #Delphinapterus leucas\n",
        "Gallus_gallus = SeqIO.read(\"/content/sample_data/sequences/Gallus gallus.fasta\", \"fasta\")# Gallus gallus\n",
        "Homo_sapiens = SeqIO.read('/content/sample_data/sequences/Homo sapiens.fasta', 'fasta') # H. Sapiens MERS\n",
        "Mareca = SeqIO.read('/content/sample_data/sequences/Mareca.fasta', 'fasta') #Mareca\n",
        "Rhinolophus_ferrumequinum = SeqIO.read('/content/sample_data/sequences/Rhinolophus ferrumequinum.fasta', 'fasta')#Rhinolophus ferrumequinum"
      ],
      "execution_count": 31,
      "outputs": []
    },
    {
      "cell_type": "code",
      "metadata": {
        "id": "XU7KOV0oA9T8",
        "colab_type": "code",
        "colab": {}
      },
      "source": [
        "#Create list of above sequence:\n",
        "list_record = [Branta_canadensis, Camelus, Delphinapterus_leucas, Gallus_gallus, Homo_sapiens, Mareca, Rhinolophus_ferrumequinum]"
      ],
      "execution_count": 32,
      "outputs": []
    },
    {
      "cell_type": "code",
      "metadata": {
        "id": "ESMEQcQzBmgh",
        "colab_type": "code",
        "colab": {
          "base_uri": "https://localhost:8080/",
          "height": 34
        },
        "outputId": "ec62ec77-df9a-4048-bbd7-76688fdc8a02"
      },
      "source": [
        "#reads = SeqIO.parse(file,\"fasta\")\n",
        "end = []\n",
        "\n",
        "for record in list_record:\n",
        "    #record[:n].append(end)\n",
        "    end.append(record)\n",
        "    \n",
        "SeqIO.write(end, \"/content/sample_data/sequences/all.fasta\", \"fasta\")"
      ],
      "execution_count": 33,
      "outputs": [
        {
          "output_type": "execute_result",
          "data": {
            "text/plain": [
              "7"
            ]
          },
          "metadata": {
            "tags": []
          },
          "execution_count": 33
        }
      ]
    },
    {
      "cell_type": "code",
      "metadata": {
        "id": "krSdEwsvB6L8",
        "colab_type": "code",
        "colab": {}
      },
      "source": [
        "# Define input file\n",
        "in_file = \"/content/sample_data/sequences/all.fasta\""
      ],
      "execution_count": 34,
      "outputs": []
    },
    {
      "cell_type": "code",
      "metadata": {
        "id": "6Uc3pSHhChfP",
        "colab_type": "code",
        "colab": {}
      },
      "source": [
        "# Define output file\n",
        "out_file = \"/content/sample_data/sequences/aligned.fasta\""
      ],
      "execution_count": 35,
      "outputs": []
    },
    {
      "cell_type": "code",
      "metadata": {
        "id": "c9XvWO28Cqfc",
        "colab_type": "code",
        "colab": {}
      },
      "source": [
        "# Get the command for Clustal Omega\n",
        "clustalomega_cline = ClustalOmegaCommandline(infile=in_file, outfile=out_file, verbose=True, auto=True)"
      ],
      "execution_count": 36,
      "outputs": []
    },
    {
      "cell_type": "code",
      "metadata": {
        "id": "vtsR5wpOCw8x",
        "colab_type": "code",
        "colab": {
          "base_uri": "https://localhost:8080/",
          "height": 34
        },
        "outputId": "fb203f75-20e3-4740-a477-683edada1fda"
      },
      "source": [
        "# Print the executable command\n",
        "print(clustalomega_cline)"
      ],
      "execution_count": 38,
      "outputs": [
        {
          "output_type": "stream",
          "text": [
            "clustalo -i /content/sample_data/sequences/all.fasta -o /content/sample_data/sequences/aligned.fasta --auto -v\n"
          ],
          "name": "stdout"
        }
      ]
    },
    {
      "cell_type": "code",
      "metadata": {
        "id": "SBjeujzuC3pX",
        "colab_type": "code",
        "colab": {
          "base_uri": "https://localhost:8080/",
          "height": 34
        },
        "outputId": "b103623e-55b2-4963-9baa-dcb37f2b78cd"
      },
      "source": [
        "!./clustalo-1.2.2-FreeBSD-x86-64 -i /content/sample_data/sequences/all.fasta -o /content/sample_data/sequences/aligned.fasta --auto --force  -v"
      ],
      "execution_count": 43,
      "outputs": [
        {
          "output_type": "stream",
          "text": [
            "/bin/bash: ./clustalo-1.2.2-FreeBSD-x86-64: No such file or directory\n"
          ],
          "name": "stdout"
        }
      ]
    },
    {
      "cell_type": "code",
      "metadata": {
        "id": "PbEl6GJDIeEd",
        "colab_type": "code",
        "colab": {
          "base_uri": "https://localhost:8080/",
          "height": 122
        },
        "outputId": "75f5feb9-9416-4b65-835f-441db6851bcb"
      },
      "source": [
        "!pip install pysam"
      ],
      "execution_count": 46,
      "outputs": [
        {
          "output_type": "stream",
          "text": [
            "Collecting pysam\n",
            "\u001b[?25l  Downloading https://files.pythonhosted.org/packages/87/a1/73e80a7a873f3fb0e52d368a4343eb9882b737c932b95020d82251f1087e/pysam-0.16.0.1-cp36-cp36m-manylinux1_x86_64.whl (9.9MB)\n",
            "\u001b[K     |████████████████████████████████| 10.0MB 3.0MB/s \n",
            "\u001b[?25hInstalling collected packages: pysam\n",
            "Successfully installed pysam-0.16.0.1\n"
          ],
          "name": "stdout"
        }
      ]
    },
    {
      "cell_type": "code",
      "metadata": {
        "id": "aUTKjhcAIt7E",
        "colab_type": "code",
        "colab": {}
      },
      "source": [
        "from pysam import FastxFile\n",
        "\n",
        "\n",
        "fasta_q_file =  \"/content/sample_data/sequences/all.fasta\"\n",
        "out_filename = \"/content/sample_data/sequences/output.fasta\"\n",
        "size_size_trim = 250\n",
        "\n",
        "\n",
        "with FastxFile(fasta_q_file) as fh, open(out_filename, mode='w') as fout:\n",
        "    for entry in fh:\n",
        "        sequence_id = entry.name\n",
        "        sequence = entry.sequence\n",
        "\n",
        "        if len(sequence) > size_size_trim:\n",
        "            fout.write(\">{}trimmed_to{}_bp\\n{}\\n\".format(size_size_trim,sequence_id, sequence[:size_size_trim]))\n",
        "\n",
        "        else:\n",
        "            if len(sequence) == size_size_trim:\n",
        "                fout.write(\">{}\\n{}\\n\".format(sequence_id, sequence[:size_size_trim]))\n",
        "            else:\n",
        "                # sequences shorter than `size_size_trim` are not written.\n",
        "                continue"
      ],
      "execution_count": 50,
      "outputs": []
    },
    {
      "cell_type": "code",
      "metadata": {
        "id": "calv8NWeHGEy",
        "colab_type": "code",
        "colab": {
          "base_uri": "https://localhost:8080/",
          "height": 153
        },
        "outputId": "c878cb54-b3a1-4fde-ab14-0520e2cf03bd"
      },
      "source": [
        "align = AlignIO.read(\"/content/sample_data/sequences/output.fasta\", \"fasta\")\n",
        "print(align)"
      ],
      "execution_count": 51,
      "outputs": [
        {
          "output_type": "stream",
          "text": [
            "SingleLetterAlphabet() alignment with 7 rows and 250 columns\n",
            "ACTTTGAGCATTGATATATATATATATATATCATACTCACCTTG...CTC 250trimmed_toBranta_bp\n",
            "ACTTAAGTGTCTTATCTATCTATAGATAGAAAAGTCGCTTTTTA...GTG 250trimmed_toCamelus_bp\n",
            "CTATTTGTGAATAATATATATATATATATATATCATTCATTCGT...ACA 250trimmed_toDelphinapterus_bp\n",
            "ACTTAAGATAGATATTAATATATATCTATCACACTAGCCTTGCG...CGT 250trimmed_toGallus_bp\n",
            "ATTAAAGGTTTATACCTTCCCAGGTAACAAACCAACCAACTTTC...GTG 250trimmed_toHomo_bp\n",
            "GTCATTTGGTAAAATATAATATATATTTTATCACTCTAGCTTCG...CTT 250trimmed_toMareca_bp\n",
            "AAGTGTCGTGCTCCTAGGGGTTGCACTTGACGTGTTCCGTCACG...TTT 250trimmed_toRhinolophus_bp\n"
          ],
          "name": "stdout"
        }
      ]
    },
    {
      "cell_type": "markdown",
      "metadata": {
        "id": "nSDUzCuzKcwT",
        "colab_type": "text"
      },
      "source": [
        "**Calculate distance:**"
      ]
    },
    {
      "cell_type": "code",
      "metadata": {
        "id": "6ta0sxRUKgCC",
        "colab_type": "code",
        "colab": {}
      },
      "source": [
        "calculator = DistanceCalculator('identity')\n",
        "dm = calculator.get_distance(align)"
      ],
      "execution_count": 61,
      "outputs": []
    },
    {
      "cell_type": "markdown",
      "metadata": {
        "id": "ZcfDYEHZKtwr",
        "colab_type": "text"
      },
      "source": [
        "**Create the Phylogenetic Tree**"
      ]
    },
    {
      "cell_type": "code",
      "metadata": {
        "id": "_20ZIWuUXiA-",
        "colab_type": "code",
        "colab": {}
      },
      "source": [
        "def label(leaf):\n",
        "    global name\n",
        "    if leaf.name.startswith('Inner'):\n",
        "        name=''\n",
        "    else:\n",
        "        for i in range(len(code)):\n",
        "            if leaf.name.startswith(code[i]):\n",
        "                name=leaf.name+\" | \"+location[i]\n",
        "    return name"
      ],
      "execution_count": 62,
      "outputs": []
    },
    {
      "cell_type": "code",
      "metadata": {
        "id": "3S9EHJsiXpc-",
        "colab_type": "code",
        "colab": {}
      },
      "source": [
        "constructor = DistanceTreeConstructor()\n",
        "tree = constructor.upgma(dm)"
      ],
      "execution_count": 63,
      "outputs": []
    },
    {
      "cell_type": "code",
      "metadata": {
        "id": "nnlYWb_7Xy0j",
        "colab_type": "code",
        "colab": {
          "base_uri": "https://localhost:8080/",
          "height": 684
        },
        "outputId": "be792675-7640-47a8-86f2-79e8c8af41e5"
      },
      "source": [
        "fig = plt.figure(figsize=(8, 8), dpi=100)\n",
        "axes = fig.add_subplot(1, 1, 1)\n",
        "Phylo.draw(tree, axes=axes, \n",
        "           branch_labels=lambda c: round(c.branch_length, 2), do_show=False)"
      ],
      "execution_count": 66,
      "outputs": [
        {
          "output_type": "display_data",
          "data": {
            "image/png": "[encoded data removed]",
            "text/plain": [
              "<Figure size 800x800 with 1 Axes>"
            ]
          },
          "metadata": {
            "tags": [],
            "needs_background": "light"
          }
        }
      ]
    }
  ]
}